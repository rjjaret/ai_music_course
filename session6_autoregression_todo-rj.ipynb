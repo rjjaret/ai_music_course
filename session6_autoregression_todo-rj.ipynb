{
 "cells": [
  {
   "cell_type": "markdown",
   "metadata": {},
   "source": [
    "# Session 6: Autoregressive Music Generation (Part 1)\n",
    "\n",
    "Agenda\n",
    "- Overview of the Transformer model\n",
    "- Understanding Anticipatory Music Transformers\n",
    "- Hands On: Using AMT to generate MIDI data"
   ]
  },
  {
   "cell_type": "markdown",
   "metadata": {},
   "source": [
    "## The Transformer architecture\n",
    "\n",
    "From the paper [Attention Is All You Need (Vaswani et al., 2017)](https://arxiv.org/abs/1706.03762).\n",
    "\n",
    "![](./assets/transformer.png)"
   ]
  },
  {
   "cell_type": "markdown",
   "metadata": {},
   "source": [
    "## Understanding Anticipatory Music Transformers\n",
    "\n",
    "From the papers [Music Transformer (Huang et al., 2018)](https://arxiv.org/abs/1809.04281) and [Anticipatory Music Transformers (Thickstun et al., 2023)](https://arxiv.org/abs/2306.08620).\n",
    "\n",
    "![](./assets/music_transformer.png)"
   ]
  },
  {
   "cell_type": "markdown",
   "metadata": {},
   "source": [
    "## Hands On: Using AMT to generate MIDI Data"
   ]
  },
  {
   "cell_type": "code",
   "execution_count": null,
   "metadata": {},
   "outputs": [],
   "source": [
    "# Clone the anticipation repository\n",
    "!git clone https://github.com/lancelotblanchard/anticipation.git ../repositories/anticipation"
   ]
  },
  {
   "cell_type": "code",
   "execution_count": null,
   "metadata": {
    "ExecuteTime": {
     "end_time": "2025-05-13T23:42:56.601205Z",
     "start_time": "2025-05-13T23:42:46.257855Z"
    }
   },
   "outputs": [],
   "source": [
    "import os\n",
    "os.environ[\"HF_HUB_CACHE\"] = os.path.abspath(\"../huggingface_hub_cache/\")\n",
    "\n",
    "from transformers import GPT2LMHeadModel\n",
    "\n",
    "# set Hub Cache folder\n",
    "model = GPT2LMHeadModel.from_pretrained(\"stanford-crfm/music-small-800k\", attn_implementation=\"eager\")"
   ]
  },
  {
   "cell_type": "code",
   "execution_count": null,
   "metadata": {},
   "outputs": [],
   "source": [
    "from torchinfo import summary\n",
    "summary(model)"
   ]
  },
  {
   "cell_type": "code",
   "execution_count": null,
   "metadata": {},
   "outputs": [],
   "source": [
    "# Add our repository to the Python path\n",
    "\n",
    "import sys\n",
    "sys.path.append('../repositories/anticipation')"
   ]
  },
  {
   "cell_type": "code",
   "execution_count": null,
   "metadata": {},
   "outputs": [],
   "source": [
    "from anticipation import ops\n",
    "from anticipation.config import MAX_INSTR, MAX_PITCH\n",
    "from anticipation.vocab import ANTICIPATE, CONTROL_OFFSET, DUR_OFFSET, NOTE_OFFSET, TIME_OFFSET\n",
    "from anticipation.sample import nucleus\n",
    "import torch\n",
    "\n",
    "# Let's look at generating some tokens unconditionally. Before we can do so,\n",
    "# we need to look at building an inference function:\n",
    "\n",
    "def generate_note(model, tokens, current_time, active_instruments, top_p=0.98, history_length=340, monophony=False):\n",
    "      assert len(tokens) % 3 == 0 # we need to have a valid sequence\n",
    "\n",
    "      history = tokens.copy()\n",
    "      lookback = max(len(tokens) - 3*history_length, 0) \n",
    "      history = history[lookback:]\n",
    "      offset = ops.min_time(history, seconds=False)\n",
    "      history[::3] = (tok - offset for tok in history[::3])\n",
    "\n",
    "      # 3 tokens per note - time, duration, note\n",
    "      new_tokens=[]\n",
    "\n",
    "      with torch.no_grad(): #only inference, so no_grad needed\n",
    "            for i in range(3):\n",
    "                  input_sequence = torch.tensor([ANTICIPATE] + history + new_tokens).unsqueeze(0).to(model.device)\n",
    "                  logits = model(input_sequence).logits[0, -1]\n",
    "                  \n",
    "                  # Filter the logits\n",
    "                  #1. Do not generate controls\n",
    "                  logits[CONTROL_OFFSET:] = -float('inf')\n",
    "\n",
    "                  \n",
    "                  if i==0: \n",
    "                        # no notes either (?)\n",
    "                        logits[DUR_OFFSET:CONTROL_OFFSET] = -float('inf')\n",
    "\n",
    "                        # don't want to look back beyond start, so remove all events before\n",
    "                        if current_time > 0:\n",
    "                              logits[TIME_OFFSET:TIME_OFFSET+current_time+(1 if monophony else 0)] = -float('inf')\n",
    "\n",
    "                  elif i==1:\n",
    "                        logits[TIME_OFFSET:DUR_OFFSET] = -float('inf')\n",
    "                        logits[NOTE_OFFSET:CONTROL_OFFSET] = -float('inf')\n",
    "                  elif i==2:\n",
    "                        logits[TIME_OFFSET:NOTE_OFFSET] = -float('inf')\n",
    "                        active_instruments = sorted(active_instruments)\n",
    "                        logits[NOTE_OFFSET:NOTE_OFFSET+active_instruments[0]*MAX_PITCH] = -float('inf')\n",
    "\n",
    "                        for j in range(len(active_instruments) - 1):\n",
    "                              logits[NOTE_OFFSET + (active_instruments[j]+1)*MAX_PITCH : NOTE_OFFSET + active_instruments[j+1]*MAX_PITCH] = -float('inf')\n",
    "\n",
    "                        logits[NOTE_OFFSET + (active_instruments[-1]+1)*MAX_PITCH : CONTROL_OFFSET] = -float('inf')\n",
    "                  \n",
    "                  #sampling\n",
    "                  logits = nucleus(logits, top_p=top_p)\n",
    "                  probs = torch.nn.functional.softmax(logits, dim=-1)\n",
    "                  new_token = torch.multinomial(probs, 1).item()\n",
    "                  new_tokens.append(new_token)\n",
    "\n",
    "            new_tokens[0] += offset\n",
    "\n",
    "            return new_tokens\n",
    "      "
   ]
  },
  {
   "cell_type": "code",
   "execution_count": null,
   "metadata": {},
   "outputs": [],
   "source": [
    "# Let's try to generate a few notes\n",
    "\n",
    "tokens = []\n",
    "current_time = 0\n",
    "for i in range(40):\n",
    "    new_tokens = generate_note(model, tokens, current_time, active_instruments=[0])\n",
    "    print(new_tokens)\n",
    "    tokens+=new_tokens\n",
    "    current_time = new_tokens[0]\n",
    "..."
   ]
  },
  {
   "cell_type": "code",
   "execution_count": null,
   "metadata": {},
   "outputs": [],
   "source": [
    "from anticipation.convert import events_to_midi\n",
    "import midi2audio\n",
    "import librosa\n",
    "from IPython.display import Audio\n",
    "\n",
    "# Let's listen to our sequence of tokens\n",
    "\n",
    "# We first need to convert our tokens to a MIDI file\n",
    "events_to_midi(tokens).save(\"assets/generation.mid\")\n",
    "\n",
    "midi2audio_obj = midi2audio.FluidSynth(\"../session2_setup/assets/soundfont.sf2\")\n",
    "midi2audio_obj.midi_to_audio(\"assets/generation.mid\", \"assets/generation.wav\")\n",
    "\n",
    "y, sr = librosa.load(\"assets/generation.wav\", sr=44100)\n",
    "\n",
    "display(Audio(y, rate=sr))"
   ]
  },
  {
   "cell_type": "code",
   "execution_count": null,
   "metadata": {},
   "outputs": [],
   "source": [
    "import matplotlib.pyplot as plt\n",
    "\n",
    "# Let's take a look at what logits look like\n",
    "tokens_subset = tokens[:3*10]\n",
    "with torch.no_grad():\n",
    "    input_sequence = torch.tensor([ANTICIPATE] + tokens_subset).unsqueeze(0).to(model.device)\n",
    "    logits = model(input_sequence).logits[0,-1]\n",
    "\n",
    "print(logits.shape)\n",
    "\n",
    "plt.figure(figsize=(20, 5))\n",
    "\n",
    "plt.imshow(logits.cpu().unsqueeze(0).numpy(), aspect=\"auto\", interpolation=\"nearest\")\n",
    "plt.xlabel(\"Token\")\n",
    "plt.yticks([])\n",
    "plt.title(\"Logits for token 31\")\n",
    "plt.colorbar()\n",
    "\n",
    "plt.show()"
   ]
  },
  {
   "cell_type": "code",
   "execution_count": null,
   "metadata": {},
   "outputs": [],
   "source": [
    "from anticipation.config import MAX_TIME\n",
    "\n",
    "# Let's do the same thing after nucleus sampling processing\n",
    "\n",
    "print(f\"Last time of the sequence is {tokens_subset[-3]}\")\n",
    "\n",
    "# Safety filtering for time tokens\n",
    "logits[DUR_OFFSET:] = -float('inf')\n",
    "\n",
    "logits[TIME_OFFSET:TIME_OFFSET+tokens_subset[-3]] = -float('inf')\n",
    "\n",
    "# Get the probability distribution of the new token\n",
    "nucleus_logits = nucleus(logits, top_p=0.98)\n",
    "probs = torch.nn.functional.softmax(nucleus_logits, dim=-1)\n",
    "new_token = torch.multinomial(probs, 1).item()\n",
    "\n",
    "print(f\"New token would be sampled for {new_token}\")\n",
    "\n",
    "plt.figure(figsize=(20, 5))\n",
    "plt.plot(probs[:MAX_TIME].cpu().numpy())\n",
    "plt.xlabel(\"Token\")\n",
    "plt.ylabel(\"Probability\")\n",
    "plt.title(\"Probablility distribution for sampling token 31\")\n",
    "\n",
    "plt.show()"
   ]
  },
  {
   "cell_type": "code",
   "execution_count": null,
   "metadata": {},
   "outputs": [],
   "source": [
    "from anticipation.convert import midi_to_events\n",
    "\n",
    "# Let's now work with a conditioning signal! We'll convert our MIDI file to tokens\n",
    "\n",
    "symphony40 = midi_to_events(\"../session2_setup/assets/symphony40.mid\")\n",
    "print(f\"Number of tokens: {len(symphony40)}, number of notes: {len(symphony40)//3}\")\n",
    "print(f\"First tokens: {symphony40[:6]}\")"
   ]
  },
  {
   "cell_type": "code",
   "execution_count": null,
   "metadata": {},
   "outputs": [],
   "source": [
    "# We can calculate the number of instruments by looking at the tokens\n",
    "instruments = set()\n",
    "for note in symphony40[2::3]:\n",
    "    instruments.add((note-NOTE_OFFSET) // MAX_PITCH)\n",
    "\n",
    "\n",
    "print(f\"Number of instruments: {len(instruments)}\")\n",
    "print(f\"Instruments: {instruments}\")"
   ]
  },
  {
   "cell_type": "code",
   "execution_count": null,
   "metadata": {},
   "outputs": [],
   "source": [
    "# Let's filter the first 238 notes of the sequence and only keep instrument 42\n",
    "# We will also keep the notes of instrument 40 as a ground truth\n",
    "\n",
    "control_tokens = []\n",
    "ground_truth = []\n",
    "for t, d, n in zip(symphony40[:238*3:3], symphony40[1:238*3:3], symphony40[2:238*3:3]):\n",
    "    if (n-NOTE_OFFSET)//MAX_PITCH == 42:\n",
    "             control_tokens += [t,d,n]\n",
    "             ground_truth+=[t,d,n]\n",
    "\n",
    "    if (n - NOTE_OFFSET)//MAX_PITCH == 40:\n",
    "           ground_truth +=[t,d,n]\n",
    "\n",
    "\n",
    "           \n",
    "events_to_midi(control_tokens).save(\"assets/control.mid\")\n",
    "events_to_midi(ground_truth).save(\"assets/ground_truth.mid\")\n",
    "midi2audio_obj.midi_to_audio(\"assets/control.mid\", \"assets/control.wav\")\n",
    "midi2audio_obj.midi_to_audio(\"assets/ground_truth.mid\", \"assets/ground_truth.wav\")\n",
    "\n",
    "y, sr = librosa.load(\"assets/control.wav\", sr=44100)\n",
    "display(Audio(y, rate=sr))\n",
    "\n",
    "y, sr = librosa.load(\"assets/ground_truth.wav\", sr=44100)\n",
    "display(Audio(y, rate=sr))"
   ]
  },
  {
   "cell_type": "code",
   "execution_count": null,
   "metadata": {},
   "outputs": [],
   "source": [
    "from anticipation.config import DELTA\n",
    "import math\n",
    "\n",
    "# We will use this sequence as a conditioning signal for our generation\n",
    "# Let's generate instrument 42 with the given control signal\n",
    "\n",
    "# First, let's add CONTROL_OFFSET to the control tokens\n",
    "anticipated_control_tokens = [CONTROL_OFFSET + t for t in control_tokens]\n",
    "\n",
    "# We select the first control token and leave the rest for later\n",
    "atime, adur, anote = anticipated_control_tokens[0:3]\n",
    "atokens = anticipated_control_tokens[3:]\n",
    "\n",
    "# This is the time of the first control\n",
    "anticipated_time = atime - CONTROL_OFFSET\n",
    "\n",
    "# We will generate until end time\n",
    "end_time = max(control_tokens[::3])\n",
    "current_time = 0\n",
    "conditioned_tokens = []\n",
    "\n",
    "# Generation loop\n",
    "while current_time < end_time:\n",
    "    # Anticipated if needed\n",
    "    while current_time >= anticipated_time - DELTA:\n",
    "        conditioned_tokens.extend([atime, adur, anote])\n",
    "\n",
    "        if len(atokens) > 0:\n",
    "            atime, adur, anote = atokens[0:3]\n",
    "            atokens = atokens[3:]\n",
    "            anticipated_time = atime - CONTROL_OFFSET\n",
    "        else:\n",
    "            anticipated_time = math.inf\n",
    "        \n",
    "    new_tokens = generate_note(model, conditioned_tokens, current_time, active_instruments=[40], monophony=True)\n",
    "    print(new_tokens)\n",
    "    conditioned_tokens += new_tokens\n",
    "    current_time = new_tokens[0]\n",
    "\n",
    "# We remove the control tokens and add them without CONTROL_OFFSET\n",
    "conditioned_tokens, _ = ops.split(conditioned_tokens)\n",
    "conditioned_tokens = ops.sort(conditioned_tokens + control_tokens)"
   ]
  },
  {
   "cell_type": "code",
   "execution_count": null,
   "metadata": {},
   "outputs": [],
   "source": [
    "# We can now listen to our result\n",
    "\n",
    "events_to_midi(conditioned_tokens).save(\"assets/conditioned_generation.mid\")\n",
    "\n",
    "midi2audio_obj = midi2audio.FluidSynth(\"../session2_setup/assets/soundfont.sf2\")\n",
    "midi2audio_obj.midi_to_audio(\"assets/conditioned_generation.mid\", \"assets/conditioned_generation.wav\")\n",
    "\n",
    "y, sr = librosa.load(\"assets/conditioned_generation.wav\", sr=44100)\n",
    "\n",
    "display(Audio(y, rate=sr))"
   ]
  }
 ],
 "metadata": {
  "kernelspec": {
   "display_name": ".venv",
   "language": "python",
   "name": "python3"
  },
  "language_info": {
   "codemirror_mode": {
    "name": "ipython",
    "version": 3
   },
   "file_extension": ".py",
   "mimetype": "text/x-python",
   "name": "python",
   "nbconvert_exporter": "python",
   "pygments_lexer": "ipython3",
   "version": "3.12.10"
  }
 },
 "nbformat": 4,
 "nbformat_minor": 2
}
